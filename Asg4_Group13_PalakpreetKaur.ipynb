{
 "cells": [
  {
   "cell_type": "code",
   "execution_count": 1,
   "id": "a6895f6d-817c-4360-b9a5-39bd26330293",
   "metadata": {
    "tags": []
   },
   "outputs": [
    {
     "name": "stderr",
     "output_type": "stream",
     "text": [
      "Using TensorFlow backend.\n",
      "C:\\Users\\gillg\\anaconda3\\envs\\UL\\lib\\site-packages\\tensorflow\\python\\framework\\dtypes.py:526: FutureWarning: Passing (type, 1) or '1type' as a synonym of type is deprecated; in a future version of numpy, it will be understood as (type, (1,)) / '(1,)type'.\n",
      "  _np_qint8 = np.dtype([(\"qint8\", np.int8, 1)])\n",
      "C:\\Users\\gillg\\anaconda3\\envs\\UL\\lib\\site-packages\\tensorflow\\python\\framework\\dtypes.py:527: FutureWarning: Passing (type, 1) or '1type' as a synonym of type is deprecated; in a future version of numpy, it will be understood as (type, (1,)) / '(1,)type'.\n",
      "  _np_quint8 = np.dtype([(\"quint8\", np.uint8, 1)])\n",
      "C:\\Users\\gillg\\anaconda3\\envs\\UL\\lib\\site-packages\\tensorflow\\python\\framework\\dtypes.py:528: FutureWarning: Passing (type, 1) or '1type' as a synonym of type is deprecated; in a future version of numpy, it will be understood as (type, (1,)) / '(1,)type'.\n",
      "  _np_qint16 = np.dtype([(\"qint16\", np.int16, 1)])\n",
      "C:\\Users\\gillg\\anaconda3\\envs\\UL\\lib\\site-packages\\tensorflow\\python\\framework\\dtypes.py:529: FutureWarning: Passing (type, 1) or '1type' as a synonym of type is deprecated; in a future version of numpy, it will be understood as (type, (1,)) / '(1,)type'.\n",
      "  _np_quint16 = np.dtype([(\"quint16\", np.uint16, 1)])\n",
      "C:\\Users\\gillg\\anaconda3\\envs\\UL\\lib\\site-packages\\tensorflow\\python\\framework\\dtypes.py:530: FutureWarning: Passing (type, 1) or '1type' as a synonym of type is deprecated; in a future version of numpy, it will be understood as (type, (1,)) / '(1,)type'.\n",
      "  _np_qint32 = np.dtype([(\"qint32\", np.int32, 1)])\n",
      "C:\\Users\\gillg\\anaconda3\\envs\\UL\\lib\\site-packages\\tensorflow\\python\\framework\\dtypes.py:535: FutureWarning: Passing (type, 1) or '1type' as a synonym of type is deprecated; in a future version of numpy, it will be understood as (type, (1,)) / '(1,)type'.\n",
      "  np_resource = np.dtype([(\"resource\", np.ubyte, 1)])\n"
     ]
    }
   ],
   "source": [
    "# Importing libraries\n",
    "import numpy as np\n",
    "import pandas as pd\n",
    "import matplotlib.pyplot as plt\n",
    "\n",
    "from keras.models import Model\n",
    "from keras.layers import Input, Dense"
   ]
  },
  {
   "cell_type": "markdown",
   "id": "fbc81aa8-39c0-40c4-b306-97a043446df6",
   "metadata": {
    "tags": []
   },
   "source": [
    "## *Data*"
   ]
  },
  {
   "cell_type": "code",
   "execution_count": 10,
   "id": "1c16653e-a65a-4d73-92d4-c87807746a24",
   "metadata": {
    "tags": []
   },
   "outputs": [
    {
     "name": "stdout",
     "output_type": "stream",
     "text": [
      "x_train shape: (60000, 784)\n",
      "y_train shape: (60000, 1)\n",
      "x_test shape: (10000, 784)\n",
      "y_test shape: (10000, 1)\n"
     ]
    }
   ],
   "source": [
    "# 1a.load the dataset\n",
    "x_train = pd.read_csv('csvTrainImages 60k x 784.csv', header=None)\n",
    "y_train = pd.read_csv('csvTrainLabel 60k x 1.csv', header=None)\n",
    "x_test = pd.read_csv('csvTestImages 10k x 784.csv', header=None)\n",
    "y_test = pd.read_csv('csvTestLabel 10k x 1.csv', header=None)\n",
    "\n",
    "# convert to numpy arrays\n",
    "x_train = x_train.values\n",
    "y_train = y_train.values\n",
    "x_test = x_test.values\n",
    "y_test = y_test.values\n",
    "\n",
    "# print the shape of the data\n",
    "print(f'x_train shape: {x_train.shape}')\n",
    "print(f'y_train shape: {y_train.shape}')\n",
    "print(f'x_test shape: {x_test.shape}')\n",
    "print(f'y_test shape: {y_test.shape}')"
   ]
  },
  {
   "cell_type": "code",
   "execution_count": 12,
   "id": "aa13c879-6037-40e7-b2a3-d3b95d6d0532",
   "metadata": {
    "tags": []
   },
   "outputs": [
    {
     "data": {
      "image/png": "[encoded data removed]",
      "text/plain": [
       "<Figure size 1000x700 with 5 Axes>"
      ]
     },
     "metadata": {},
     "output_type": "display_data"
    }
   ],
   "source": [
    "# 1b. normalize by dividing each value by 255\n",
    "x_train = x_train / 255.0\n",
    "x_test = x_test / 255.0\n",
    "\n",
    "# reshape each image to 28x28 for display\n",
    "x_train_reshaped = x_train.reshape(-1, 28, 28)\n",
    "x_test_reshaped = x_test.reshape(-1, 28, 28)\n",
    "\n",
    "# plot the first five images\n",
    "plt.figure(figsize=(10, 7))\n",
    "for i in range(5):\n",
    "    plt.subplot(1, 5, i + 1)\n",
    "    plt.imshow(x_train_reshaped[i], cmap='gray')\n",
    "    plt.axis('off')\n",
    "plt.show()\n",
    "\n",
    "# flatten the images to 784 for input to the neural network\n",
    "x_train_flattened = x_train.reshape(-1, 784)\n",
    "x_test_flattened = x_test.reshape(-1, 784)"
   ]
  },
  {
   "cell_type": "markdown",
   "id": "52131b2e-1cca-4e38-9509-79459dde2566",
   "metadata": {},
   "source": [
    "## *Modelling*"
   ]
  },
  {
   "cell_type": "code",
   "execution_count": 14,
   "id": "57623ea4-bb83-49d6-a282-1a56ed0527fa",
   "metadata": {
    "tags": []
   },
   "outputs": [],
   "source": [
    "# 2a.input layer\n",
    "input_layer = Input(shape=(784,))"
   ]
  },
  {
   "cell_type": "code",
   "execution_count": 15,
   "id": "1f32ec86-cc0b-4b8f-8bd1-2b93ce0e9242",
   "metadata": {
    "tags": []
   },
   "outputs": [
    {
     "name": "stdout",
     "output_type": "stream",
     "text": [
      "WARNING:tensorflow:From C:\\Users\\gillg\\anaconda3\\envs\\UL\\lib\\site-packages\\tensorflow\\python\\framework\\op_def_library.py:263: colocate_with (from tensorflow.python.framework.ops) is deprecated and will be removed in a future version.\n",
      "Instructions for updating:\n",
      "Colocations handled automatically by placer.\n"
     ]
    }
   ],
   "source": [
    "# 2b. encoding stage\n",
    "encoded = Dense(256, activation='relu')(input_layer)\n",
    "encoded = Dense(128, activation='relu')(encoded)\n",
    "encoded = Dense(64, activation='relu')(encoded)\n",
    "encoded = Dense(16, activation='relu')(encoded)"
   ]
  },
  {
   "cell_type": "code",
   "execution_count": 16,
   "id": "261531d3-5a91-43be-8bdf-d2440878410f",
   "metadata": {
    "tags": []
   },
   "outputs": [],
   "source": [
    "# 2c. dencoding stage\n",
    "decoded = Dense(64, activation='relu')(encoded)\n",
    "decoded = Dense(128, activation='relu')(decoded)\n",
    "decoded = Dense(784, activation='sigmoid')(decoded)"
   ]
  },
  {
   "cell_type": "code",
   "execution_count": 18,
   "id": "4ba2f77f-4f9d-4b52-94e2-423fad8d9377",
   "metadata": {
    "tags": []
   },
   "outputs": [
    {
     "name": "stdout",
     "output_type": "stream",
     "text": [
      "WARNING:tensorflow:From C:\\Users\\gillg\\anaconda3\\envs\\UL\\lib\\site-packages\\tensorflow\\python\\ops\\math_ops.py:3066: to_int32 (from tensorflow.python.ops.math_ops) is deprecated and will be removed in a future version.\n",
      "Instructions for updating:\n",
      "Use tf.cast instead.\n",
      "Epoch 1/50\n",
      "60000/60000 [==============================] - 33s 543us/step - loss: 0.1385\n",
      "Epoch 2/50\n",
      "60000/60000 [==============================] - 31s 521us/step - loss: 0.0983\n",
      "Epoch 3/50\n",
      "60000/60000 [==============================] - 31s 517us/step - loss: 0.0913\n",
      "Epoch 4/50\n",
      "60000/60000 [==============================] - 32s 527us/step - loss: 0.0881\n",
      "Epoch 5/50\n",
      "60000/60000 [==============================] - 31s 523us/step - loss: 0.0862\n",
      "Epoch 6/50\n",
      "60000/60000 [==============================] - 30s 507us/step - loss: 0.0849\n",
      "Epoch 7/50\n",
      "60000/60000 [==============================] - 31s 519us/step - loss: 0.0840\n",
      "Epoch 8/50\n",
      "60000/60000 [==============================] - 31s 514us/step - loss: 0.0832\n",
      "Epoch 9/50\n",
      "60000/60000 [==============================] - 31s 519us/step - loss: 0.0825\n",
      "Epoch 10/50\n",
      "60000/60000 [==============================] - 31s 519us/step - loss: 0.0819\n",
      "Epoch 11/50\n",
      "60000/60000 [==============================] - 31s 520us/step - loss: 0.0814\n",
      "Epoch 12/50\n",
      "60000/60000 [==============================] - 31s 512us/step - loss: 0.0810\n",
      "Epoch 13/50\n",
      "60000/60000 [==============================] - 30s 504us/step - loss: 0.0807\n",
      "Epoch 14/50\n",
      "60000/60000 [==============================] - 31s 516us/step - loss: 0.0803\n",
      "Epoch 15/50\n",
      "60000/60000 [==============================] - 30s 503us/step - loss: 0.0800\n",
      "Epoch 16/50\n",
      "60000/60000 [==============================] - 31s 521us/step - loss: 0.0798\n",
      "Epoch 17/50\n",
      "60000/60000 [==============================] - 31s 517us/step - loss: 0.0795\n",
      "Epoch 18/50\n",
      "60000/60000 [==============================] - 32s 527us/step - loss: 0.0793\n",
      "Epoch 19/50\n",
      "60000/60000 [==============================] - 31s 513us/step - loss: 0.0791\n",
      "Epoch 20/50\n",
      "60000/60000 [==============================] - 31s 522us/step - loss: 0.0789\n",
      "Epoch 21/50\n",
      "60000/60000 [==============================] - 32s 536us/step - loss: 0.0787\n",
      "Epoch 22/50\n",
      "60000/60000 [==============================] - 32s 535us/step - loss: 0.0786\n",
      "Epoch 23/50\n",
      "60000/60000 [==============================] - 31s 518us/step - loss: 0.0784\n",
      "Epoch 24/50\n",
      "60000/60000 [==============================] - 31s 521us/step - loss: 0.0783\n",
      "Epoch 25/50\n",
      "60000/60000 [==============================] - 31s 516us/step - loss: 0.0781\n",
      "Epoch 26/50\n",
      "60000/60000 [==============================] - 33s 552us/step - loss: 0.0780\n",
      "Epoch 27/50\n",
      "60000/60000 [==============================] - 31s 520us/step - loss: 0.0778\n",
      "Epoch 28/50\n",
      "60000/60000 [==============================] - 31s 523us/step - loss: 0.0777\n",
      "Epoch 29/50\n",
      "60000/60000 [==============================] - 31s 525us/step - loss: 0.0776\n",
      "Epoch 30/50\n",
      "60000/60000 [==============================] - 32s 525us/step - loss: 0.0775\n",
      "Epoch 31/50\n",
      "60000/60000 [==============================] - 31s 520us/step - loss: 0.0774\n",
      "Epoch 32/50\n",
      "60000/60000 [==============================] - 32s 530us/step - loss: 0.0773\n",
      "Epoch 33/50\n",
      "60000/60000 [==============================] - 32s 540us/step - loss: 0.0772\n",
      "Epoch 34/50\n",
      "60000/60000 [==============================] - 32s 528us/step - loss: 0.0771\n",
      "Epoch 35/50\n",
      "60000/60000 [==============================] - 32s 530us/step - loss: 0.0770\n",
      "Epoch 36/50\n",
      "60000/60000 [==============================] - 32s 530us/step - loss: 0.0770\n",
      "Epoch 37/50\n",
      "60000/60000 [==============================] - 31s 524us/step - loss: 0.0769\n",
      "Epoch 38/50\n",
      "60000/60000 [==============================] - 32s 529us/step - loss: 0.0768\n",
      "Epoch 39/50\n",
      "60000/60000 [==============================] - 33s 547us/step - loss: 0.0767\n",
      "Epoch 40/50\n",
      "60000/60000 [==============================] - 32s 528us/step - loss: 0.0766\n",
      "Epoch 41/50\n",
      "60000/60000 [==============================] - 32s 528us/step - loss: 0.0766\n",
      "Epoch 42/50\n",
      "60000/60000 [==============================] - 31s 522us/step - loss: 0.0765\n",
      "Epoch 43/50\n",
      "60000/60000 [==============================] - 32s 529us/step - loss: 0.0765\n",
      "Epoch 44/50\n",
      "60000/60000 [==============================] - 32s 529us/step - loss: 0.0764\n",
      "Epoch 45/50\n",
      "60000/60000 [==============================] - 32s 530us/step - loss: 0.0763\n",
      "Epoch 46/50\n",
      "60000/60000 [==============================] - 32s 541us/step - loss: 0.0762\n",
      "Epoch 47/50\n",
      "60000/60000 [==============================] - 32s 529us/step - loss: 0.0762\n",
      "Epoch 48/50\n",
      "60000/60000 [==============================] - 31s 524us/step - loss: 0.0762\n",
      "Epoch 49/50\n",
      "60000/60000 [==============================] - 32s 526us/step - loss: 0.0761\n",
      "Epoch 50/50\n",
      "60000/60000 [==============================] - 32s 530us/step - loss: 0.0761\n"
     ]
    },
    {
     "data": {
      "text/plain": [
       "<keras.callbacks.History at 0x1acaa344e48>"
      ]
     },
     "execution_count": 18,
     "metadata": {},
     "output_type": "execute_result"
    }
   ],
   "source": [
    "# 2d. autoencoder\n",
    "autoencoder = Model(input_layer, decoded)\n",
    "autoencoder.compile(loss='binary_crossentropy',\n",
    "              optimizer='adam')\n",
    "autoencoder.fit(x_train_flattened, x_train_flattened, epochs=50)"
   ]
  },
  {
   "cell_type": "markdown",
   "id": "11031f83-aa5a-499e-95fd-36cfe06b1215",
   "metadata": {
    "tags": []
   },
   "source": [
    "## *Conclusion*"
   ]
  },
  {
   "cell_type": "code",
   "execution_count": 26,
   "id": "a984c9ff-417e-42d3-a32c-f708ba59858c",
   "metadata": {
    "tags": []
   },
   "outputs": [],
   "source": [
    "# 3a. show the images\n",
    "encoder_output = Model(input_layer, encoded).predict(x_test_flattened[:5])\n",
    "encoder_output = encoder_output.reshape((-1, 4, 4)) * 255\n",
    "decoder_output = autoencoder.predict(x_test_flattened[:5])\n",
    "decoder_output = decoder_output.reshape((-1, 28,28)) * 255\n",
    "x_test_images_reshaped = x_test_flattened.reshape(-1, 28, 28)"
   ]
  },
  {
   "cell_type": "code",
   "execution_count": 27,
   "id": "4031d317-bd4d-4abd-a4b4-7cb21c2bbacc",
   "metadata": {
    "tags": []
   },
   "outputs": [
    {
     "data": {
      "image/png": "[encoded data removed]",
      "text/plain": [
       "<Figure size 1000x700 with 15 Axes>"
      ]
     },
     "metadata": {},
     "output_type": "display_data"
    }
   ],
   "source": [
    "plt.figure(figsize=(10, 7))\n",
    "for i in range(5):\n",
    "    # Plot the original image\n",
    "    plt.subplot(3, 5, i + 1)\n",
    "    plt.imshow(x_test_images_reshaped[i], cmap='gray')\n",
    "    plt.axis('off')\n",
    "    \n",
    "    # Plot the encoder output\n",
    "    plt.subplot(3, 5, i + 6)\n",
    "    plt.imshow(encoder_output[i], cmap='gray')\n",
    "    plt.axis('off')   \n",
    "    \n",
    "    # Plot the decoder output\n",
    "    plt.subplot(3, 5, i + 11)\n",
    "    plt.imshow(decoder_output[i], cmap='gray')\n",
    "    plt.axis('off')   "
   ]
  },
  {
   "cell_type": "markdown",
   "id": "0f01122d-93cb-4c91-b659-fca95e97aef0",
   "metadata": {},
   "source": [
    "# 3a. Adjustments:\n",
    "1. Adding an additional layer in encoder to let the model analyze the training data closely.\n",
    "2. Increase the number of epochs from 20 to 50, helping model undertand the data better.\n",
    "3. Tried changing the learning rate, which help decrease the loss, but it was still significant.\n",
    "4. Decrease the latent space to 16 units, while using relu as an activation function and adam as optimizer, and got loss near 0.0761.\n"
   ]
  },
  {
   "cell_type": "markdown",
   "id": "621f1136-5641-4022-8c5d-5a38175c653c",
   "metadata": {},
   "source": [
    "# 3b. Autoencoder performance:\n",
    "- The autoencoder performs really well in reconstructing the images, as the decoded images are really same as the originial images. The image quality is also good, and the letters are really visisble. "
   ]
  },
  {
   "cell_type": "markdown",
   "id": "e55c6e99-4a5e-43d3-bde4-94003e526927",
   "metadata": {},
   "source": [
    "# 3c. Memory saved\n",
    "## Memory Savings Calculation:\n",
    "Each image is represented as a flattened array of 784 pixel values so:\n",
    "- **Original Image Size**: 784 values × 4 bytes = 3136 bytes per image.\n",
    "- **Encoded Image Size** (with 16 units in latent space): 16 values × 4 bytes = 64 bytes per image.\n",
    "\n",
    "- **Memory saved**:  97.96% "
   ]
  }
 ],
 "metadata": {
  "kernelspec": {
   "display_name": "Python 3 (ipykernel)",
   "language": "python",
   "name": "python3"
  },
  "language_info": {
   "codemirror_mode": {
    "name": "ipython",
    "version": 3
   },
   "file_extension": ".py",
   "mimetype": "text/x-python",
   "name": "python",
   "nbconvert_exporter": "python",
   "pygments_lexer": "ipython3",
   "version": "3.7.16"
  }
 },
 "nbformat": 4,
 "nbformat_minor": 5
}
